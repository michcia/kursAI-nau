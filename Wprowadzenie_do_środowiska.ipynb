{
  "nbformat": 4,
  "nbformat_minor": 0,
  "metadata": {
    "colab": {
      "provenance": [],
      "include_colab_link": true
    },
    "kernelspec": {
      "name": "python3",
      "display_name": "Python 3"
    },
    "language_info": {
      "name": "python"
    }
  },
  "cells": [
    {
      "cell_type": "markdown",
      "metadata": {
        "id": "view-in-github",
        "colab_type": "text"
      },
      "source": [
        "<a href=\"https://colab.research.google.com/github/michcia/kursAI-nau/blob/main/Wprowadzenie_do_%C5%9Brodowiska.ipynb\" target=\"_parent\"><img src=\"https://colab.research.google.com/assets/colab-badge.svg\" alt=\"Open In Colab\"/></a>"
      ]
    },
    {
      "cell_type": "code",
      "execution_count": null,
      "metadata": {
        "id": "xXZ2z7ZC258o"
      },
      "outputs": [],
      "source": []
    },
    {
      "cell_type": "markdown",
      "source": [
        "\n",
        "\n",
        "```\n",
        "# Sformatowano jako kod\n",
        "```\n",
        "\n",
        "# **Podstawowe elementy języka Python**\n",
        "*W tym rozdziale przedstawimy podstawowe elementy składni języka Python*\n",
        "\n",
        "[Dokumentacja Python](https://python.org/)\n",
        "\n",
        "## Omawiane elementy\n",
        "---\n",
        "1.   Zmienne\n",
        "---\n",
        "2.   Listy\n",
        "---\n",
        "3.   Pętle\n",
        "---\n",
        "4.   Słowniki i krotki\n",
        "---\n",
        "5.   Instrukcje warunkowe\n",
        "---\n",
        "6.   Funkcje\n",
        "---\n",
        "7.   Obsługa plików\n",
        "---\n",
        "8.   Obsługa wyjątków\n",
        "---"
      ],
      "metadata": {
        "id": "WqWWgoJs3_o1"
      }
    },
    {
      "cell_type": "markdown",
      "source": [
        "# Obsługa Git i GitHuba"
      ],
      "metadata": {
        "id": "3j_QgcOvDfWT"
      }
    },
    {
      "cell_type": "code",
      "source": [
        "!git init\n",
        "!git config --global user.name \"Michał Suchoń\"\n",
        "!git config --global user.email \"michalsuchon04@gmail.com\""
      ],
      "metadata": {
        "colab": {
          "base_uri": "https://localhost:8080/"
        },
        "id": "ITBVyi454v3V",
        "outputId": "9202cbad-d448-40dd-dde7-35f0332a842f"
      },
      "execution_count": 38,
      "outputs": [
        {
          "output_type": "stream",
          "name": "stdout",
          "text": [
            "\u001b[33mhint: Using 'master' as the name for the initial branch. This default branch name\u001b[m\n",
            "\u001b[33mhint: is subject to change. To configure the initial branch name to use in all\u001b[m\n",
            "\u001b[33mhint: of your new repositories, which will suppress this warning, call:\u001b[m\n",
            "\u001b[33mhint: \u001b[m\n",
            "\u001b[33mhint: \tgit config --global init.defaultBranch <name>\u001b[m\n",
            "\u001b[33mhint: \u001b[m\n",
            "\u001b[33mhint: Names commonly chosen instead of 'master' are 'main', 'trunk' and\u001b[m\n",
            "\u001b[33mhint: 'development'. The just-created branch can be renamed via this command:\u001b[m\n",
            "\u001b[33mhint: \u001b[m\n",
            "\u001b[33mhint: \tgit branch -m <name>\u001b[m\n",
            "Initialized empty Git repository in /content/.git/\n"
          ]
        }
      ]
    },
    {
      "cell_type": "code",
      "source": [
        "!git add ."
      ],
      "metadata": {
        "id": "VVseRKg36jb-"
      },
      "execution_count": 39,
      "outputs": []
    },
    {
      "cell_type": "code",
      "source": [
        "!git commit -m \"inicjalizacja projektu\""
      ],
      "metadata": {
        "colab": {
          "base_uri": "https://localhost:8080/"
        },
        "id": "AQ_Tkm9X663H",
        "outputId": "9d4ddbe9-48f1-4622-c4a3-2232280ba85b"
      },
      "execution_count": 40,
      "outputs": [
        {
          "output_type": "stream",
          "name": "stdout",
          "text": [
            "[master (root-commit) 9e25302] inicjalizacja projektu\n",
            " 21 files changed, 51025 insertions(+)\n",
            " create mode 100644 .config/.last_opt_in_prompt.yaml\n",
            " create mode 100644 .config/.last_survey_prompt.yaml\n",
            " create mode 100644 .config/.last_update_check.json\n",
            " create mode 100644 .config/active_config\n",
            " create mode 100644 .config/config_sentinel\n",
            " create mode 100644 .config/configurations/config_default\n",
            " create mode 100644 .config/default_configs.db\n",
            " create mode 100644 .config/gce\n",
            " create mode 100644 .config/hidden_gcloud_config_universe_descriptor_data_cache_configs.db\n",
            " create mode 100644 .config/logs/2025.09.25/13.36.07.721162.log\n",
            " create mode 100644 .config/logs/2025.09.25/13.36.28.271167.log\n",
            " create mode 100644 .config/logs/2025.09.25/13.36.36.952554.log\n",
            " create mode 100644 .config/logs/2025.09.25/13.36.38.163546.log\n",
            " create mode 100644 .config/logs/2025.09.25/13.36.46.286835.log\n",
            " create mode 100644 .config/logs/2025.09.25/13.36.46.995115.log\n",
            " create mode 100755 sample_data/README.md\n",
            " create mode 100755 sample_data/anscombe.json\n",
            " create mode 100644 sample_data/california_housing_test.csv\n",
            " create mode 100644 sample_data/california_housing_train.csv\n",
            " create mode 100644 sample_data/mnist_test.csv\n",
            " create mode 100644 sample_data/mnist_train_small.csv\n"
          ]
        }
      ]
    },
    {
      "cell_type": "code",
      "source": [
        "!git branch -M main"
      ],
      "metadata": {
        "id": "HAmd2uRL7AS0"
      },
      "execution_count": 63,
      "outputs": []
    },
    {
      "cell_type": "code",
      "source": [
        "!git remote add origin https://<PAT>@github.com/michcia/kursAI-nau.git"
      ],
      "metadata": {
        "id": "AO9nCSPk7f1p"
      },
      "execution_count": 42,
      "outputs": []
    },
    {
      "cell_type": "code",
      "source": [
        "!git push -u origin main"
      ],
      "metadata": {
        "colab": {
          "base_uri": "https://localhost:8080/"
        },
        "id": "uoaNgPkp7rYA",
        "outputId": "253ea72c-2c06-4e54-c2ae-ae9abcace51e"
      },
      "execution_count": 43,
      "outputs": [
        {
          "output_type": "stream",
          "name": "stdout",
          "text": [
            "To https://github.com/michcia/kursAI-nau.git\n",
            " \u001b[31m! [rejected]       \u001b[m main -> main (fetch first)\n",
            "\u001b[31merror: failed to push some refs to 'https://github.com/michcia/kursAI-nau.git'\n",
            "\u001b[m\u001b[33mhint: Updates were rejected because the remote contains work that you do\u001b[m\n",
            "\u001b[33mhint: not have locally. This is usually caused by another repository pushing\u001b[m\n",
            "\u001b[33mhint: to the same ref. You may want to first integrate the remote changes\u001b[m\n",
            "\u001b[33mhint: (e.g., 'git pull ...') before pushing again.\u001b[m\n",
            "\u001b[33mhint: See the 'Note about fast-forwards' in 'git push --help' for details.\u001b[m\n"
          ]
        }
      ]
    },
    {
      "cell_type": "code",
      "source": [
        "!git pull origin main --allow-unrelated-histories"
      ],
      "metadata": {
        "colab": {
          "base_uri": "https://localhost:8080/"
        },
        "id": "DV_ro6Bn_GZq",
        "outputId": "d51926c7-8b02-4fd4-f24c-365cd9e7911e"
      },
      "execution_count": 52,
      "outputs": [
        {
          "output_type": "stream",
          "name": "stdout",
          "text": [
            "From https://github.com/michcia/kursAI-nau\n",
            " * branch            main       -> FETCH_HEAD\n",
            "Already up to date.\n"
          ]
        }
      ]
    },
    {
      "cell_type": "markdown",
      "source": [
        "# Zmienne"
      ],
      "metadata": {
        "id": "h_x0tw-5EH3X"
      }
    },
    {
      "cell_type": "code",
      "source": [
        "liczba = 6\n",
        "zmiennoprzecinkowa = 8.9\n",
        "napis = \"Tekst\"\n",
        "logiczna = False\n",
        "print(f\"liczba: {liczba}, liczba zmiennoprzecinkowa {zmiennoprzecinkowa}, napis: {napis} zmienna logiczna: {logiczna}\")\n",
        "print(f\"Zmienna liczba jest typu {type(liczba)}\")"
      ],
      "metadata": {
        "colab": {
          "base_uri": "https://localhost:8080/"
        },
        "id": "fXKWzUTlEoDO",
        "outputId": "d0d2ba26-90a7-4983-e6fc-c32d64f51c2d"
      },
      "execution_count": 53,
      "outputs": [
        {
          "output_type": "stream",
          "name": "stdout",
          "text": [
            "liczba: 6, liczba zmiennoprzecinkowa 8.9, napis: Tekst zmienna logiczna: False\n",
            "Zmienna liczba jest typu <class 'int'>\n"
          ]
        }
      ]
    },
    {
      "cell_type": "code",
      "source": [
        "liczba = \"szesc\"\n",
        "print(f\"Zmienna liczba jest typu {type(liczba)}\")"
      ],
      "metadata": {
        "colab": {
          "base_uri": "https://localhost:8080/"
        },
        "id": "m3AEzSWSFDkL",
        "outputId": "d711b632-ade2-46b8-e005-be111ee9ebb0"
      },
      "execution_count": 54,
      "outputs": [
        {
          "output_type": "stream",
          "name": "stdout",
          "text": [
            "Zmienna liczba jest typu <class 'str'>\n"
          ]
        }
      ]
    },
    {
      "cell_type": "markdown",
      "source": [
        "# Listy"
      ],
      "metadata": {
        "id": "82IJf9tAFz6F"
      }
    },
    {
      "cell_type": "code",
      "source": [
        "#tworzymy listy\n",
        "gry = ['fortnite', 'minecraft', 'roblox']\n",
        "lista_mieszana = [1, 'minecraft', 2, 'roblox']\n",
        "#wyświetlamy listy\n",
        "print(gry)\n",
        "print(lista_mieszana)\n",
        "#odwołanie do pierwszego elementu listy\n",
        "print(f\"pierwszyy element listy gry {gry[0]}\")\n",
        "#dodanie elementu do listy\n",
        "gry.append('cs')\n",
        "print(gry)"
      ],
      "metadata": {
        "colab": {
          "base_uri": "https://localhost:8080/"
        },
        "id": "uxk-TNGVF5Nd",
        "outputId": "38ac682f-f758-48ba-b324-39a2f192a9dc"
      },
      "execution_count": 55,
      "outputs": [
        {
          "output_type": "stream",
          "name": "stdout",
          "text": [
            "['fortnite', 'minecraft', 'roblox']\n",
            "[1, 'minecraft', 2, 'roblox']\n",
            "pierwszyy element listy gry fortnite\n",
            "['fortnite', 'minecraft', 'roblox', 'cs']\n"
          ]
        }
      ]
    },
    {
      "cell_type": "markdown",
      "source": [
        "# Pętle"
      ],
      "metadata": {
        "id": "c8MiytRQF-qW"
      }
    },
    {
      "cell_type": "code",
      "source": [
        "#pętla while\n",
        "licznik = 0\n",
        "print(\"Pętla while licząca do 5\")\n",
        "while licznik <= 5:\n",
        " print(licznik)\n",
        " licznik += 1\n",
        "print(\"Pętla for licząca do 5\")\n",
        "for licznik in range(6):\n",
        " print(licznik)\n",
        "print(\"Pętla for licząca od 5 do 10\")\n",
        "for licznik in range(5,11):\n",
        " print(licznik)\n",
        "print(\"Pętla for licząca do 10 tylko liczbami parzystymi\")\n",
        "for licznik in range(0,11,2):\n",
        " print(licznik)\n",
        "print(\"Pętla przechodząca przez elementy listy gry\")\n",
        "for gra in gry:\n",
        " print(gra)"
      ],
      "metadata": {
        "colab": {
          "base_uri": "https://localhost:8080/"
        },
        "id": "h5DUHvCqGAqU",
        "outputId": "836a2cf2-9c0f-42db-9b19-5605913514b2"
      },
      "execution_count": 56,
      "outputs": [
        {
          "output_type": "stream",
          "name": "stdout",
          "text": [
            "Pętla while licząca do 5\n",
            "0\n",
            "1\n",
            "2\n",
            "3\n",
            "4\n",
            "5\n",
            "Pętla for licząca do 5\n",
            "0\n",
            "1\n",
            "2\n",
            "3\n",
            "4\n",
            "5\n",
            "Pętla for licząca od 5 do 10\n",
            "5\n",
            "6\n",
            "7\n",
            "8\n",
            "9\n",
            "10\n",
            "Pętla for licząca do 10 tylko liczbami parzystymi\n",
            "0\n",
            "2\n",
            "4\n",
            "6\n",
            "8\n",
            "10\n",
            "Pętla przechodząca przez elementy listy gry\n",
            "fortnite\n",
            "minecraft\n",
            "roblox\n",
            "cs\n"
          ]
        }
      ]
    },
    {
      "cell_type": "markdown",
      "source": [
        "# Słowniki i krotki"
      ],
      "metadata": {
        "id": "a6vWZ1RPGIjT"
      }
    },
    {
      "cell_type": "code",
      "source": [
        "slownik = {'kot' : 'cat',\n",
        "           'pies': 'dog',\n",
        "           'waz': 'snake'}\n",
        "\n",
        "print(slownik['kot'])\n",
        "\n",
        "print(\"Klucze słownika\")\n",
        "for key in slownik.keys():\n",
        "  print(key)\n",
        "\n",
        "print(\"Wartości słownika\")\n",
        "for value in slownik.values():\n",
        "  print(value)\n",
        "\n",
        "print(\"Krotka\")\n",
        "wspolrzedne = (2,7)\n",
        "print(f'Pierwsza wspolrzedna {wspolrzedne[0]}, druga wspolrzedna {wspolrzedne[1]}')"
      ],
      "metadata": {
        "id": "YnP2edORGLYu"
      },
      "execution_count": null,
      "outputs": []
    },
    {
      "cell_type": "markdown",
      "source": [
        "# Instrukcje warunkowe"
      ],
      "metadata": {
        "id": "M04pZx5gGNxC"
      }
    },
    {
      "cell_type": "code",
      "source": [
        "#Inteligenty grzejnik\n",
        "temperatura = float(input(\"Podaj temperaturę: \"))\n",
        "\n",
        "if temperatura < 20:\n",
        "  print(\"Podwyższam temperaturę\")\n",
        "elif temperatura >25:\n",
        "  print(\"Obniżam temperaturę\")\n",
        "else:\n",
        "  print(\"Temperatura w normie\")"
      ],
      "metadata": {
        "colab": {
          "base_uri": "https://localhost:8080/"
        },
        "id": "YAx0lFJkGQRl",
        "outputId": "22fb5d07-66b3-48f7-fce0-f8f2a369a2d0"
      },
      "execution_count": 57,
      "outputs": [
        {
          "output_type": "stream",
          "name": "stdout",
          "text": [
            "Podaj temperaturę: 20\n",
            "Temperatura w normie\n"
          ]
        }
      ]
    },
    {
      "cell_type": "markdown",
      "source": [
        "# Funkcje"
      ],
      "metadata": {
        "id": "0bmP7CC_GX1v"
      }
    },
    {
      "cell_type": "code",
      "source": [
        "#definicja funkcji\n",
        "def dodawanie(a, b):\n",
        "  return a + b\n",
        "print(dodawanie (2,3))\n",
        "\n",
        "\n",
        "#definicja funkcji z argumentem domyslnym\n",
        "def dodawanie(a, b = 5):\n",
        "  return a + b\n",
        "print(dodawanie (2,3))\n",
        "print(dodawanie (2))\n",
        "\n",
        "#wywołanie funkcji z argumentem nazwanym\n",
        "def dodawanie(a, b):\n",
        "  return 2*a + b\n",
        "print(dodawanie (a=2, b = 3))\n",
        "print(dodawanie (b = 2, a = 3))"
      ],
      "metadata": {
        "colab": {
          "base_uri": "https://localhost:8080/"
        },
        "id": "B-Rvj9cKGZbG",
        "outputId": "b51b5357-4225-41ed-8dbc-eb94164d66c0"
      },
      "execution_count": 58,
      "outputs": [
        {
          "output_type": "stream",
          "name": "stdout",
          "text": [
            "5\n",
            "5\n",
            "7\n",
            "7\n",
            "8\n"
          ]
        }
      ]
    },
    {
      "cell_type": "markdown",
      "source": [
        "# Obsługa plików"
      ],
      "metadata": {
        "id": "1yvtHog1GdE3"
      }
    },
    {
      "cell_type": "code",
      "source": [
        "#odczyt z pliku\n",
        "with open('dane.txt','r') as file:\n",
        "  for line in file:\n",
        "    print(line)\n",
        "\n",
        "#dodawanie do pliku\n",
        "with open('dane.txt','a') as file:\n",
        "  file.write('\\nLUA')\n",
        "\n",
        "#zapis do pliku (zapisanie do nowego pliku)\n",
        "with open('dane2.txt','w') as file:\n",
        "  file.write('Lubie placki')"
      ],
      "metadata": {
        "colab": {
          "base_uri": "https://localhost:8080/"
        },
        "id": "pUDdqet1GfKv",
        "outputId": "7786f3b9-37aa-402e-c5d6-d42a3ccdc7fa"
      },
      "execution_count": 60,
      "outputs": [
        {
          "output_type": "stream",
          "name": "stdout",
          "text": [
            "minecraft\n",
            "\n",
            "cs\n",
            "\n",
            "fortnite\n"
          ]
        }
      ]
    },
    {
      "cell_type": "markdown",
      "source": [
        "# Obsługa wyjątków"
      ],
      "metadata": {
        "id": "3ncWnMQHGx_j"
      }
    },
    {
      "cell_type": "code",
      "source": [
        "try:\n",
        "  dzielna = float(input(\"Podaj dzielną: \"))\n",
        "  dzielnik = float(input(\"Podaj dzielniki: \"))\n",
        "  suma = dzielna / dzielnik\n",
        "except Exception as e:\n",
        "  print(f\"Blad o tresci {e}\")\n",
        "else:\n",
        "  print(f\"{dzielna}/{dzielnik} to {suma}\")\n",
        "finally:\n",
        "  print(\"Koniec programu\")\n"
      ],
      "metadata": {
        "id": "fv_p9gXHG03h"
      },
      "execution_count": null,
      "outputs": []
    },
    {
      "cell_type": "code",
      "source": [
        "!git add .\n",
        "!git commit -m \"Komentatz co zostało zmienione w projekcie\"\n",
        "!git push origin main"
      ],
      "metadata": {
        "colab": {
          "base_uri": "https://localhost:8080/"
        },
        "id": "tYSEPyNdG5dm",
        "outputId": "2f5745be-7da0-4cff-f11a-bd091ce3733e"
      },
      "execution_count": 64,
      "outputs": [
        {
          "output_type": "stream",
          "name": "stdout",
          "text": [
            "On branch main\n",
            "nothing to commit, working tree clean\n",
            "Enumerating objects: 5, done.\n",
            "Counting objects: 100% (5/5), done.\n",
            "Delta compression using up to 2 threads\n",
            "Compressing objects: 100% (2/2), done.\n",
            "Writing objects: 100% (4/4), 514 bytes | 514.00 KiB/s, done.\n",
            "Total 4 (delta 0), reused 0 (delta 0), pack-reused 0\n",
            "To https://github.com/michcia/kursAI-nau.git\n",
            "   dd7da68..bcf91fc  main -> main\n"
          ]
        }
      ]
    },
    {
      "cell_type": "code",
      "source": [
        "#Zadanie dodatkowe 1\n",
        "def czy_prawidlowy_trojkat(a,b,c):\n",
        "  if min(a,b,c) <= 0:\n",
        "    raise Exception (\"Długości boków trójkąta muszą być niezerowe\")\n",
        "\n",
        "  if 2*max(a,b,c) >= sum([a,b,c]):\n",
        "    print(\"Nie można zbudować trójkąta\")\n",
        "  else:\n",
        "    print(\"Można zbudować trójkąt\")\n",
        "\n",
        "def oneline_prawidlowy_trojkat(a,b,c):\n",
        "  print(\"Można zbudować trójkąt\" if min(a,b,c) > 0 and 2*max(a,b,c) < sum([a,b,c]) else \"Nie można zbudować trójkąta\")\n",
        "\n",
        "a = float(input(\"Podaj długość boku a: \"))\n",
        "b = float(input(\"Podaj długość boku b: \"))\n",
        "c = float(input(\"Podaj długość boku c: \"))\n",
        "oneline_prawidlowy_trojkat(a,b,c)"
      ],
      "metadata": {
        "colab": {
          "base_uri": "https://localhost:8080/"
        },
        "id": "-JPlznKGHjnw",
        "outputId": "ff2e674d-9446-4500-c347-237971b17f85"
      },
      "execution_count": 65,
      "outputs": [
        {
          "output_type": "stream",
          "name": "stdout",
          "text": [
            "Podaj długość boku a: 5\n",
            "Podaj długość boku b: 4\n",
            "Podaj długość boku c: 3\n",
            "Można zbudować trójkąt\n"
          ]
        }
      ]
    },
    {
      "cell_type": "code",
      "source": [
        "#Zadanie dodatkowe 2\n",
        "lista = [x **2 for x in range(2,11,2)] + ([x **(1/2) for x in range(11,20,2)])\n",
        "print(lista)"
      ],
      "metadata": {
        "colab": {
          "base_uri": "https://localhost:8080/"
        },
        "id": "oYfIOxOXHnya",
        "outputId": "36b202da-6094-488d-cb01-d594f4e8349d"
      },
      "execution_count": 66,
      "outputs": [
        {
          "output_type": "stream",
          "name": "stdout",
          "text": [
            "[4, 16, 36, 64, 100, 3.3166247903554, 3.605551275463989, 3.872983346207417, 4.123105625617661, 4.358898943540674]\n"
          ]
        }
      ]
    },
    {
      "cell_type": "code",
      "source": [
        "#Zadanie dodatkowe 3\n",
        "lista = [1,1,1,1,2,2,3,4,4,4,4,4,4,4,5,5,6]\n",
        "unikalne_wartości = set(lista)\n",
        "slownik = {}\n",
        "\n",
        "for unikalna_wartosc in unikalne_wartości:\n",
        "  liczba_wystapien = lista.count(unikalna_wartosc)\n",
        "  slownik.setdefault(unikalna_wartosc, liczba_wystapien)\n",
        "\n",
        "print(slownik)\n"
      ],
      "metadata": {
        "colab": {
          "base_uri": "https://localhost:8080/"
        },
        "id": "sGXWrKgDHpU1",
        "outputId": "84ebd5c2-785d-4692-fb26-547cb797ff16"
      },
      "execution_count": 67,
      "outputs": [
        {
          "output_type": "stream",
          "name": "stdout",
          "text": [
            "{1: 4, 2: 2, 3: 1, 4: 7, 5: 2, 6: 1}\n"
          ]
        }
      ]
    }
  ]
}