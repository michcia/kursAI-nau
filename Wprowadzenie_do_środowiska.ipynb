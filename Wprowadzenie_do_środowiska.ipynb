{
  "nbformat": 4,
  "nbformat_minor": 0,
  "metadata": {
    "colab": {
      "provenance": [],
      "include_colab_link": true
    },
    "kernelspec": {
      "name": "python3",
      "display_name": "Python 3"
    },
    "language_info": {
      "name": "python"
    }
  },
  "cells": [
    {
      "cell_type": "markdown",
      "metadata": {
        "id": "view-in-github",
        "colab_type": "text"
      },
      "source": [
        "<a href=\"https://colab.research.google.com/github/michcia/kursAI-nau/blob/main/Wprowadzenie_do_%C5%9Brodowiska.ipynb\" target=\"_parent\"><img src=\"https://colab.research.google.com/assets/colab-badge.svg\" alt=\"Open In Colab\"/></a>"
      ]
    },
    {
      "cell_type": "code",
      "execution_count": null,
      "metadata": {
        "id": "xXZ2z7ZC258o"
      },
      "outputs": [],
      "source": []
    },
    {
      "cell_type": "markdown",
      "source": [
        "*kursywa*# Nowa sekcja"
      ],
      "metadata": {
        "id": "_-C8nHyo3-Dz"
      }
    },
    {
      "cell_type": "markdown",
      "source": [
        "\n",
        "\n",
        "```\n",
        "# Sformatowano jako kod\n",
        "```\n",
        "\n",
        "# **Podstawowe elementy języka Python**\n",
        "*W tym rozdziale przedstawimy podstawowe elementy składni języka Python*\n",
        "\n",
        "[Dokumentacja Python](https://python.org/)\n",
        "\n",
        "## Omawiane elementy\n",
        "---\n",
        "1.   Zmienne\n",
        "---\n",
        "2.   Listy\n",
        "---\n",
        "3.   Pętle\n",
        "---\n",
        "4.   Słowniki i krotki\n",
        "---\n",
        "5.   Instrukcje warunkowe\n",
        "---\n",
        "6.   Funkcje\n",
        "---\n",
        "7.   Obsługa plików\n",
        "---\n",
        "8.   Obsługa wyjątków\n",
        "---"
      ],
      "metadata": {
        "id": "WqWWgoJs3_o1"
      }
    },
    {
      "cell_type": "code",
      "source": [
        "!git init\n",
        "!git config --global user.name \"Michał Suchoń\"\n",
        "!git config --global user.email \"michalsuchon04@gmail.com\""
      ],
      "metadata": {
        "colab": {
          "base_uri": "https://localhost:8080/"
        },
        "id": "ITBVyi454v3V",
        "outputId": "30c1ae91-0091-495d-aaf2-993f0dd44543"
      },
      "execution_count": 15,
      "outputs": [
        {
          "output_type": "stream",
          "name": "stdout",
          "text": [
            "Reinitialized existing Git repository in /content/.git/\n"
          ]
        }
      ]
    },
    {
      "cell_type": "code",
      "source": [
        "!git add ."
      ],
      "metadata": {
        "id": "VVseRKg36jb-"
      },
      "execution_count": 16,
      "outputs": []
    },
    {
      "cell_type": "code",
      "source": [
        "!git commit -m \"inicjalizacja projektu\""
      ],
      "metadata": {
        "colab": {
          "base_uri": "https://localhost:8080/"
        },
        "id": "AQ_Tkm9X663H",
        "outputId": "967d8999-9b17-4908-ea3b-ac4790e88782"
      },
      "execution_count": 17,
      "outputs": [
        {
          "output_type": "stream",
          "name": "stdout",
          "text": [
            "On branch main\n",
            "nothing to commit, working tree clean\n"
          ]
        }
      ]
    },
    {
      "cell_type": "code",
      "source": [
        "!git branch -M main"
      ],
      "metadata": {
        "id": "HAmd2uRL7AS0"
      },
      "execution_count": 18,
      "outputs": []
    },
    {
      "cell_type": "code",
      "source": [
        "!git remote add origin https://<PAT>/michcia/kursAI-nau.git"
      ],
      "metadata": {
        "id": "AO9nCSPk7f1p",
        "colab": {
          "base_uri": "https://localhost:8080/"
        },
        "outputId": "7663af3a-836d-45f5-b46a-0c997d4e3fd1"
      },
      "execution_count": 19,
      "outputs": [
        {
          "output_type": "stream",
          "name": "stdout",
          "text": [
            "error: remote origin already exists.\n"
          ]
        }
      ]
    },
    {
      "cell_type": "code",
      "source": [
        "!git push -u origin main"
      ],
      "metadata": {
        "colab": {
          "base_uri": "https://localhost:8080/"
        },
        "id": "uoaNgPkp7rYA",
        "outputId": "b1103229-d10c-4d24-eb2d-36c4c308d4bf"
      },
      "execution_count": 20,
      "outputs": [
        {
          "output_type": "stream",
          "name": "stdout",
          "text": [
            "To https://github.com/michcia/kursAI-nau.git\n",
            " \u001b[31m! [rejected]       \u001b[m main -> main (non-fast-forward)\n",
            "\u001b[31merror: failed to push some refs to 'https://github.com/michcia/kursAI-nau.git'\n",
            "\u001b[m\u001b[33mhint: Updates were rejected because the tip of your current branch is behind\u001b[m\n",
            "\u001b[33mhint: its remote counterpart. Integrate the remote changes (e.g.\u001b[m\n",
            "\u001b[33mhint: 'git pull ...') before pushing again.\u001b[m\n",
            "\u001b[33mhint: See the 'Note about fast-forwards' in 'git push --help' for details.\u001b[m\n"
          ]
        }
      ]
    },
    {
      "cell_type": "code",
      "source": [
        "! git pull origin main"
      ],
      "metadata": {
        "colab": {
          "base_uri": "https://localhost:8080/"
        },
        "id": "DV_ro6Bn_GZq",
        "outputId": "0ae24eca-3c00-4928-a9e3-d8f3860933c4"
      },
      "execution_count": 21,
      "outputs": [
        {
          "output_type": "stream",
          "name": "stdout",
          "text": [
            "From https://github.com/michcia/kursAI-nau\n",
            " * branch            main       -> FETCH_HEAD\n",
            "\u001b[33mhint: You have divergent branches and need to specify how to reconcile them.\u001b[m\n",
            "\u001b[33mhint: You can do so by running one of the following commands sometime before\u001b[m\n",
            "\u001b[33mhint: your next pull:\u001b[m\n",
            "\u001b[33mhint: \u001b[m\n",
            "\u001b[33mhint:   git config pull.rebase false  # merge (the default strategy)\u001b[m\n",
            "\u001b[33mhint:   git config pull.rebase true   # rebase\u001b[m\n",
            "\u001b[33mhint:   git config pull.ff only       # fast-forward only\u001b[m\n",
            "\u001b[33mhint: \u001b[m\n",
            "\u001b[33mhint: You can replace \"git config\" with \"git config --global\" to set a default\u001b[m\n",
            "\u001b[33mhint: preference for all repositories. You can also pass --rebase, --no-rebase,\u001b[m\n",
            "\u001b[33mhint: or --ff-only on the command line to override the configured default per\u001b[m\n",
            "\u001b[33mhint: invocation.\u001b[m\n",
            "fatal: Need to specify how to reconcile divergent branches.\n"
          ]
        }
      ]
    }
  ]
}